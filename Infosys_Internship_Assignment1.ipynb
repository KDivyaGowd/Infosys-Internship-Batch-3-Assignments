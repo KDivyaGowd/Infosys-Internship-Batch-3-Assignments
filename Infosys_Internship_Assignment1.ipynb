{
  "nbformat": 4,
  "nbformat_minor": 0,
  "metadata": {
    "colab": {
      "provenance": [],
      "authorship_tag": "ABX9TyNy5nJ2DbJscTLPvTaE7Auf",
      "include_colab_link": true
    },
    "kernelspec": {
      "name": "python3",
      "display_name": "Python 3"
    },
    "language_info": {
      "name": "python"
    }
  },
  "cells": [
    {
      "cell_type": "markdown",
      "metadata": {
        "id": "view-in-github",
        "colab_type": "text"
      },
      "source": [
        "<a href=\"https://colab.research.google.com/github/KDivyaGowd/Infosys-Internship-Batch-3-Assignments/blob/main/Infosys_Internship_Assignment1.ipynb\" target=\"_parent\"><img src=\"https://colab.research.google.com/assets/colab-badge.svg\" alt=\"Open In Colab\"/></a>"
      ]
    },
    {
      "cell_type": "code",
      "source": [
        "import json\n",
        "import requests"
      ],
      "metadata": {
        "id": "t6m9xH1M_HQU"
      },
      "execution_count": null,
      "outputs": []
    },
    {
      "cell_type": "code",
      "source": [
        "API_KEY = \"\""
      ],
      "metadata": {
        "id": "dZXDT53x_RlU"
      },
      "execution_count": 11,
      "outputs": []
    },
    {
      "cell_type": "code",
      "source": [
        "url =  \"https://api.groq.com/openai/v1/chat/completions\""
      ],
      "metadata": {
        "id": "hBt0SKxt_T0y"
      },
      "execution_count": null,
      "outputs": []
    },
    {
      "cell_type": "code",
      "source": [
        "prompt = input()"
      ],
      "metadata": {
        "colab": {
          "base_uri": "https://localhost:8080/"
        },
        "id": "5SpyUSjbBndp",
        "outputId": "05c7192e-1a51-46e5-83ce-0e2246d8ee65"
      },
      "execution_count": null,
      "outputs": [
        {
          "name": "stdout",
          "output_type": "stream",
          "text": [
            "1\n"
          ]
        }
      ]
    },
    {
      "cell_type": "code",
      "source": [
        "prompt = input(\"enter the prompt about tourist destinations: \")\n",
        "data = {\n",
        "    \"messages\": [\n",
        "        {\n",
        "            \"role\": \"system\",\n",
        "            \"content\": \"You are a helpful tourist guide who provides information about places, landmarks, travel tips, and itineraries.\"\n",
        "        },\n",
        "        {\n",
        "            \"role\": \"user\",\n",
        "            \"content\": prompt\n",
        "        }\n",
        "    ],\n",
        "    \"model\": \"llama3-8b-8192\",\n",
        "    \"temperature\": 1\n",
        "}\n",
        "\n",
        "headers = {\n",
        "    \"Content-Type\": \"application/json\",\n",
        "    \"Authorization\": f\"Bearer {API_KEY}\"\n",
        "}\n",
        "\n",
        "try:\n",
        "\n",
        "    response = requests.post(\"https://api.groq.com/openai/v1/chat/completions\" , data=json.dumps(data), headers=headers)\n",
        "    response.raise_for_status()\n",
        "    response_json = response.json()\n",
        "    print(response_json[\"choices\"][0][\"message\"][\"content\"])\n",
        "except requests.exceptions.RequestException as e:\n",
        "    print(f\"An error occurred: {e}\")\n",
        "except KeyError:\n",
        "    print(\"Unexpected response structure:\", response.text)"
      ],
      "metadata": {
        "colab": {
          "base_uri": "https://localhost:8080/"
        },
        "id": "lXn6pXb6_X50",
        "outputId": "061d27a7-7fdd-44be-9d3c-270debe9b304"
      },
      "execution_count": null,
      "outputs": [
        {
          "output_type": "stream",
          "name": "stdout",
          "text": [
            "enter the prompt about tourist destinations: paris\n",
            "Paris, the City of Light! Need I say more? Paris is one of the most romantic and beautiful cities in the world, filled with stunning architecture, art, fashion, and cuisine. As a tourist guide, I'd be delighted to help you plan your trip to this incredible city. Here are some must-see attractions, landmarks, and tips to get you started:\n",
            "\n",
            "**Must-see Attractions:**\n",
            "\n",
            "1. The Eiffel Tower: The iconic symbol of Paris, this iron lady offers breathtaking views of the city from its top deck.\n",
            "2. The Louvre Museum: Home to the Mona Lisa, the Louvre is one of the world's largest and most famous museums, featuring an impressive collection of art and antiquities.\n",
            "3. Notre-Dame Cathedral: This beautiful Gothic cathedral has been the heart of Paris for centuries, and is a must-visit for architecture and history buffs.\n",
            "4. Arc de Triomphe: This monumental arch honors the soldiers who fought and died for France, and offers stunning views of the city from its top.\n",
            "5. Montmartre: This charming neighborhood is famous for its bohemian vibe, street artists, and stunning views of the city from its hilltop.\n",
            "6. Palace of Versailles: Just a short train ride from Paris, this former royal palace is a must-visit for its opulence, beauty, and history.\n",
            "7. Musée d'Orsay: This museum is home to an impressive collection of Impressionist and Post-Impressionist art, including works by Monet, Renoir, and Van Gogh.\n",
            "\n",
            "**Landmarks:**\n",
            "\n",
            "1. The Champs-Élysées: This famous avenue is lined with cafes, shops, and theaters, and is the perfect place to take a stroll.\n",
            "2. The Pont des Arts: This pedestrian bridge offers stunning views of the Seine River and the city's landmarks.\n",
            "3. The Sacré-Cœur Basilica: This beautiful white church is situated on a hill in Montmartre and offers panoramic views of the city.\n",
            "4. The Luxembourg Gardens: These beautiful gardens are a tranquil oasis in the heart of the city, perfect for a picnic or stroll.\n",
            "5. The Seine River: Take a river cruise or stroll along the Seine's banks to admire the city's landmarks and bridges.\n",
            "\n",
            "**Travel Tips:**\n",
            "\n",
            "1. Buy a Paris Visite pass: This pass grants you access to many attractions and public transportation, making it a great value for your money.\n",
            "2. Learn some French: While many Parisians speak English, making an effort to speak French will go a long way in enhancing your experience.\n",
            "3. Dress modestly: Parisians take fashion seriously, so dress modestly and avoid wearing ripped jeans or overly casual clothing.\n",
            "4. Be prepared for crowds: Paris is a popular tourist destination, so be prepared for crowds and long lines at popular attractions.\n",
            "5. Try the local cuisine: Paris is famous for its culinary delights, from croissants to escargot. Be sure to try some of the local specialties during your visit.\n",
            "\n",
            "**Itinerary Suggestions:**\n",
            "\n",
            "Day 1:\n",
            "\n",
            "* Arrive in Paris and check into your accommodation\n",
            "* Visit the Eiffel Tower in the evening for stunning views of the city\n",
            "\n",
            "Day 2:\n",
            "\n",
            "* Visit the Louvre Museum and spend the morning exploring its exhibits\n",
            "* Take a stroll along the Seine River and visit the Pont des Arts in the afternoon\n",
            "* Enjoy a traditional French dinner at a bistro in the evening\n",
            "\n",
            "Day 3:\n",
            "\n",
            "* Spend the morning exploring Montmartre and its charming streets\n",
            "* Visit the Sacré-Cœur Basilica and take in the stunning views of the city\n",
            "* Spend the afternoon shopping on the Champs-Élysées\n",
            "\n",
            "Day 4:\n",
            "\n",
            "* Visit the Palace of Versailles and spend a day exploring its opulent halls and gardens\n",
            "* Return to Paris in the evening and enjoy a show or concert at a theater or cabaret\n",
            "\n",
            "**Insider Tips:**\n",
            "\n",
            "* Take a guided tour to get a deeper understanding of the city's history and landmarks\n",
            "* Visit the city's many markets, such as the Marché aux Puces or the Marché d'Aligre, for a taste of local culture\n",
            "* Consider staying in a boutique hotel or Airbnb to experience the city's unique charm and character\n",
            "\n",
            "I hope these tips and suggestions help you plan your trip to Paris! What are you most looking forward to experiencing in this beautiful city?\n"
          ]
        }
      ]
    }
  ]
}